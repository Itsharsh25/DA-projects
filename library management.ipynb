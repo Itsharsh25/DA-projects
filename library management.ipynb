{
 "cells": [
  {
   "cell_type": "code",
   "execution_count": null,
   "id": "dfdeb2b1-6bec-40ee-a7f3-f145e9ac48bc",
   "metadata": {
    "scrolled": true
   },
   "outputs": [
    {
     "name": "stdout",
     "output_type": "stream",
     "text": [
      "**********STUDENT LIBRARY**********\n"
     ]
    },
    {
     "name": "stdin",
     "output_type": "stream",
     "text": [
      "enter your username :  harsh\n",
      "enter password :  harsh25\n"
     ]
    },
    {
     "name": "stdout",
     "output_type": "stream",
     "text": [
      "login suceessfully \n",
      "\n",
      "            press 1 to borrow \n",
      "            press 2 to return\n",
      "            press 3 to check book stocks details\n",
      "            press 4 to check Who has taken which book?\n"
     ]
    }
   ],
   "source": [
    "books = {\"C\":20,\"Python\":15,\"C++\":10,\"Java\":10}\n",
    "bb = {}\n",
    "print(\"**********STUDENT LIBRARY**********\")\n",
    "while True:\n",
    "    username = \"harsh\"\n",
    "    password = \"harsh25\"\n",
    "    \n",
    "    a = input(\"enter your username : \").strip()\n",
    "    x = input(\"enter password : \").strip()\n",
    "    \n",
    "    if a == username and x == password :\n",
    "        print(\"login suceessfully \")\n",
    "        while True:\n",
    "            print(\"\"\"\n",
    "            press 1 to borrow \n",
    "            press 2 to return\n",
    "            press 3 to check book stocks details\n",
    "            press 4 to check Who has taken which book?\"\"\")\n",
    "            choice = int(input(\"enter your choice(1-4) : \"))\n",
    "            \n",
    "            \n",
    "            \n",
    "            if choice == 1:\n",
    "                name = input(\"enter your name : \").title()\n",
    "                n_books = []\n",
    "                \n",
    "                while True:\n",
    "                    book = input(\"enter book name : \").title()\n",
    "                    books [book] -= 1\n",
    "                    n_books.append(book)\n",
    "                    bb [name]  = n_books\n",
    "                    print(\"Book Added Sucessfully\")\n",
    "                    rc_b = input(\"do you want to aad more books ? (yes/no) \")\n",
    "                    if rc_b == \"no\":\n",
    "                        break\n",
    "        \n",
    "                print(books)\n",
    "                print(bb)\n",
    "            \n",
    "            \n",
    "            elif choice == 2:\n",
    "                name = input(\"enter your name : \").title()\n",
    "                if name in bb.keys():\n",
    "                    \n",
    "                    while True:\n",
    "                        book = input(\"enter book name : \").title()\n",
    "                        books [book] += 1\n",
    "                        print(\"Book Return Sucessfully\")\n",
    "                        bb[n_books].remove(book)\n",
    "                        rc_r = input(\"do you want to remove more books ? (yes/no) \")\n",
    "                        if rc_r == \"no\":\n",
    "                            break\n",
    "    \n",
    "                else:\n",
    "                    print(\"invalid input\")\n",
    "        \n",
    "                print(books)\n",
    "                print(bb)\n",
    "        \n",
    "            elif choice == 3:\n",
    "                print(books)\n",
    "        \n",
    "        \n",
    "                rc_o = input(\"you want another choice ? (yes/no) \")\n",
    "                if rc_o == \"no\":\n",
    "                    break\n",
    "    \n",
    "    \n",
    "            elif choice == 4:\n",
    "                if bb == {}:\n",
    "                    print(\"books not taken by anyone.\")\n",
    "                else:\n",
    "                    print(\"Who has taken which book?\",bb)\n",
    "\n",
    "    \n",
    "    else:\n",
    "        print(\"username/password is invalid! , please try again.\")\n",
    "\n",
    "    r=input(\"re-enter id or password : \").title()\n",
    "    if r == \"No\":\n",
    "        break\n",
    "\n",
    "\n",
    "print(\"\"\"**********THANKYOU FOR VISIT LIBRARY**********\"\"\")"
   ]
  },
  {
   "cell_type": "code",
   "execution_count": null,
   "id": "f3f45ba0-018e-43d3-ad6a-d1bf226c1152",
   "metadata": {},
   "outputs": [],
   "source": []
  },
  {
   "cell_type": "code",
   "execution_count": null,
   "id": "400c80bf-a216-4b6d-8ac9-fc65baa9fe31",
   "metadata": {},
   "outputs": [],
   "source": []
  }
 ],
 "metadata": {
  "kernelspec": {
   "display_name": "Python 3 (ipykernel)",
   "language": "python",
   "name": "python3"
  },
  "language_info": {
   "codemirror_mode": {
    "name": "ipython",
    "version": 3
   },
   "file_extension": ".py",
   "mimetype": "text/x-python",
   "name": "python",
   "nbconvert_exporter": "python",
   "pygments_lexer": "ipython3",
   "version": "3.11.6"
  }
 },
 "nbformat": 4,
 "nbformat_minor": 5
}
