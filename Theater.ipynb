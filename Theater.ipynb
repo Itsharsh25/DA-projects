{
 "cells": [
  {
   "cell_type": "code",
   "execution_count": 1,
   "id": "3b6ce781-8eb8-4712-a520-74a5bf5dc827",
   "metadata": {},
   "outputs": [
    {
     "name": "stdout",
     "output_type": "stream",
     "text": [
      "-----------THEATER TICKET BOOKING COUNTER----------\n",
      "                      ~WELCOME~                     \n",
      "Types of seats\n",
      "    -> daimond seats(di) - Rs600\n",
      "    -> golden seats(gd) - Rs350\n",
      "    -> silver seats(sl) - Rs200\n"
     ]
    },
    {
     "name": "stdin",
     "output_type": "stream",
     "text": [
      "enter type of seats[di,gd,sl] :  gd\n",
      "enter no. of seats : 5\n"
     ]
    },
    {
     "name": "stdout",
     "output_type": "stream",
     "text": [
      "avilable g_seats are :  25\n"
     ]
    },
    {
     "name": "stdin",
     "output_type": "stream",
     "text": [
      "do you want to add combo ?(y/n) :  n\n"
     ]
    },
    {
     "name": "stdout",
     "output_type": "stream",
     "text": [
      "___________________YOUR BILL______________________\n"
     ]
    },
    {
     "name": "stdin",
     "output_type": "stream",
     "text": [
      "customers name : harsh\n"
     ]
    },
    {
     "name": "stdout",
     "output_type": "stream",
     "text": [
      "harsh\n",
      "total payable amount (in Rupees) :  1750\n",
      "total_avilable_seats :  145\n",
      "THANK YOU , VISIT AGAIN \n",
      "**************************************************\n"
     ]
    },
    {
     "name": "stdin",
     "output_type": "stream",
     "text": [
      "new customer ? (y/n) : n\n"
     ]
    }
   ],
   "source": [
    "print(\"-----------THEATER TICKET BOOKING COUNTER----------\")\n",
    "print(\"                      ~WELCOME~                     \")\n",
    "amount=0\n",
    "d_seats,p_seats,g_seats = \"type of seats\",\"type of seats\",\"type of seats\"\n",
    "d_seats = 20\n",
    "g_seats = 30\n",
    "s_seats = 100\n",
    "\n",
    "while True:\n",
    "    print(\"\"\"Types of seats\n",
    "    -> daimond seats(di) - Rs600\n",
    "    -> golden seats(gd) - Rs350\n",
    "    -> silver seats(sl) - Rs200\"\"\")\n",
    "    a=input(\"enter type of seats[di,gd,sl] : \")\n",
    "    while True:\n",
    "        n=int(input(\"enter no. of seats :\"  ))\n",
    "                    \n",
    "        if a == \"di\":\n",
    "            if n > d_seats:\n",
    "                print(\"enter right no. of seats !\")\n",
    "                print(\"avilable d_seats are : \",d_seats)\n",
    "            else:\n",
    "                d_seats = d_seats- n\n",
    "                amount += n*600 \n",
    "                print(\"avilable d_seats are : \",d_seats)\n",
    "                break\n",
    "                            \n",
    "        if a == \"gd\":\n",
    "            if n > g_seats:\n",
    "                print(\"enter right no of seats !\")\n",
    "                print(\"avilable g_seats are : \",g_seats)\n",
    "            else:\n",
    "                g_seats = g_seats- n\n",
    "                amount += n*350 \n",
    "                print(\"avilable g_seats are : \",g_seats)\n",
    "                break\n",
    "                    \n",
    "        if a == \"sl\":\n",
    "            if n > s_seats:\n",
    "                print(\"enter right no of seats !\")\n",
    "                print(\"avilable s_seats are : \",s_seats) \n",
    "            else:\n",
    "                s_seats = s_seats- n\n",
    "                amount += n*200 \n",
    "                print(\"avilable s_seats are : \",s_seats)\n",
    "                break\n",
    "                \n",
    "    w = input(\"do you want to add combo ?(y/n) : \")\n",
    "    combo_price = 0\n",
    "    if w == \"y\":\n",
    "            q=int(input(\"choose combo price ? [100,250,400] : \"))\n",
    "            if q == 100 :\n",
    "                combo_price += 100\n",
    "            if q == 250:\n",
    "                combo_price += 250\n",
    "            if q == 400:\n",
    "                combo_price += 400\n",
    "                    \n",
    "            total_amount = amount+combo_price \n",
    "    else:\n",
    "            total_amount = amount\n",
    "                  \n",
    "    print(\"___________________YOUR BILL______________________\")\n",
    "    print(input(\"customers name :\"))\n",
    "    print(\"total payable amount (in Rupees) : \",total_amount)\n",
    "    totalseats = d_seats + g_seats + s_seats\n",
    "    print(\"total_avilable_seats : \",totalseats)\n",
    "    print(\"THANK YOU , VISIT AGAIN \")\n",
    "    print(\"*\"*50)\n",
    "            \n",
    "    n_person = input(\"new customer ? (y/n) :\")\n",
    "    if n_person == \"n\":\n",
    "        break\n",
    "    print(\"*\"*50)\n",
    "  "
   ]
  }
 ],
 "metadata": {
  "kernelspec": {
   "display_name": "Python 3 (ipykernel)",
   "language": "python",
   "name": "python3"
  },
  "language_info": {
   "codemirror_mode": {
    "name": "ipython",
    "version": 3
   },
   "file_extension": ".py",
   "mimetype": "text/x-python",
   "name": "python",
   "nbconvert_exporter": "python",
   "pygments_lexer": "ipython3",
   "version": "3.11.6"
  }
 },
 "nbformat": 4,
 "nbformat_minor": 5
}
